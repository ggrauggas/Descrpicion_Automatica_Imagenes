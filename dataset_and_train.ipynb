{
 "cells": [
  {
   "cell_type": "markdown",
   "metadata": {},
   "source": [
    " # Image Captioning con TensorFlow y Flickr8k\n",
    "\n",
    "\n",
    "\n",
    " ## Sistema de descripción automática de imágenes\n",
    "\n",
    "\n",
    "\n",
    " **Arquitectura**: Encoder-Decoder con VGG16 + LSTM con atención"
   ]
  },
  {
   "cell_type": "markdown",
   "metadata": {},
   "source": [
    " ## 1. CONFIGURACIÓN INICIAL"
   ]
  },
  {
   "cell_type": "markdown",
   "metadata": {},
   "source": [
    "### Instalar Dependencias"
   ]
  },
  {
   "cell_type": "code",
   "execution_count": 1,
   "metadata": {},
   "outputs": [],
   "source": [
    "#try:\n",
    "    #import tensorflow as tf\n",
    "    #print(f\"TensorFlow {tf.__version__} ya está instalado\")\n",
    "#except ImportError:\n",
    "    #pip install tensorflow numpy matplotlib pillow nltk tqdm pycocotools\n",
    "    #import tensorflow as tf\n"
   ]
  },
  {
   "cell_type": "markdown",
   "metadata": {},
   "source": [
    "### Descargar NLTK"
   ]
  },
  {
   "cell_type": "code",
   "execution_count": 2,
   "metadata": {},
   "outputs": [
    {
     "name": "stderr",
     "output_type": "stream",
     "text": [
      "[nltk_data] Downloading package punkt to C:\\Users\\Gerard/nltk_data...\n",
      "[nltk_data]   Package punkt is already up-to-date!\n",
      "[nltk_data] Downloading package punkt_tab to\n",
      "[nltk_data]     C:\\Users\\Gerard/nltk_data...\n",
      "[nltk_data]   Package punkt_tab is already up-to-date!\n"
     ]
    },
    {
     "data": {
      "text/plain": [
       "True"
      ]
     },
     "execution_count": 2,
     "metadata": {},
     "output_type": "execute_result"
    }
   ],
   "source": [
    "import nltk\n",
    "nltk.download('punkt')\n",
    "nltk.download('punkt_tab')\n"
   ]
  },
  {
   "cell_type": "markdown",
   "metadata": {},
   "source": [
    "### Descargar Dataset"
   ]
  },
  {
   "cell_type": "code",
   "execution_count": 3,
   "metadata": {},
   "outputs": [],
   "source": [
    "from tqdm import tqdm\n",
    "import urllib.request\n",
    "from pathlib import Path\n",
    "import string\n",
    "\n",
    "class DownloadProgressBar(tqdm):\n",
    "    def update_to(self, b=1, bsize=1, tsize=None):\n",
    "        if tsize is not None:\n",
    "            self.total = tsize\n",
    "        self.update(b * bsize - self.n)\n",
    "\n",
    "def download_file(url, output_path):\n",
    "    with DownloadProgressBar(unit='B', unit_scale=True, miniters=1, desc=url.split('/')[-1]) as t:\n",
    "        urllib.request.urlretrieve(url, filename=output_path, reporthook=t.update_to)"
   ]
  },
  {
   "cell_type": "code",
   "execution_count": 4,
   "metadata": {},
   "outputs": [
    {
     "name": "stdout",
     "output_type": "stream",
     "text": [
      "📂 Imágenes ya extraídas.\n",
      "📂 Descripciones ya extraídas.\n"
     ]
    }
   ],
   "source": [
    "import os\n",
    "import zipfile\n",
    "from pathlib import Path\n",
    "\n",
    "\n",
    "FLICKR_DIR = Path.cwd() / \"Flickr8k\"\n",
    "FLICKR_DIR.mkdir(parents=True, exist_ok=True)\n",
    "\n",
    "# Descargar y extraer imágenes\n",
    "dataset_zip_path = FLICKR_DIR /\"Flickr8k_Dataset.zip\"\n",
    "if not (FLICKR_DIR / \"Flicker8k_Dataset\").exists():\n",
    "    if not dataset_zip_path.exists():\n",
    "        print(\"📦 Descargando imágenes...\")\n",
    "        download_file(\n",
    "            \"https://github.com/jbrownlee/Datasets/releases/download/Flickr8k/Flickr8k_Dataset.zip\",\n",
    "            dataset_zip_path\n",
    "        )\n",
    "    print(\"📂 Extrayendo imágenes...\")\n",
    "    with zipfile.ZipFile(dataset_zip_path, 'r') as zip_ref:\n",
    "        zip_ref.extractall(FLICKR_DIR)\n",
    "else:\n",
    "    print(\"📂 Imágenes ya extraídas.\")\n",
    "\n",
    "# Descargar y extraer descripciones\n",
    "text_zip_path = FLICKR_DIR / \"Flickr8k_text.zip\"\n",
    "if not (FLICKR_DIR / \"Flickr8k.token.txt\").exists():\n",
    "    if not text_zip_path.exists():\n",
    "        print(\"📦 Descargando descripciones...\")\n",
    "        download_file(\n",
    "            \"https://github.com/jbrownlee/Datasets/releases/download/Flickr8k/Flickr8k_text.zip\",\n",
    "            text_zip_path\n",
    "        )\n",
    "    print(\"📂 Extrayendo descripciones...\")\n",
    "    with zipfile.ZipFile(text_zip_path, 'r') as zip_ref:\n",
    "        zip_ref.extractall(FLICKR_DIR)\n",
    "else:\n",
    "    print(\"📂 Descripciones ya extraídas.\")\n"
   ]
  },
  {
   "cell_type": "markdown",
   "metadata": {},
   "source": [
    " ## 2. IMPORTS Y CONFIGURACIÓN"
   ]
  },
  {
   "cell_type": "markdown",
   "metadata": {},
   "source": [
    "### Importes Principales"
   ]
  },
  {
   "cell_type": "code",
   "execution_count": 5,
   "metadata": {},
   "outputs": [],
   "source": [
    "import os\n",
    "import numpy as np\n",
    "from pathlib import Path\n",
    "from PIL import Image\n",
    "import tensorflow as tf\n",
    "import string\n",
    "import numpy as np\n",
    "import matplotlib.pyplot as plt\n",
    "from collections import Counter\n",
    "import datetime\n",
    "import re\n",
    "from collections import Counter\n",
    "import ssl\n",
    "import nltk \n",
    "import datetime"
   ]
  },
  {
   "cell_type": "markdown",
   "metadata": {},
   "source": [
    "### Tensorflow / NLTK"
   ]
  },
  {
   "cell_type": "code",
   "execution_count": 6,
   "metadata": {},
   "outputs": [],
   "source": [
    "from tensorflow.keras.layers import (Input, Dense, Embedding, LSTM, Concatenate,  Dropout, BatchNormalization, Layer, GlobalAveragePooling2D)\n",
    "from tensorflow.keras.models import Model\n",
    "from tensorflow.keras.regularizers import l2\n",
    "from tensorflow.keras.optimizers import Adam\n",
    "from tensorflow.keras.applications import VGG16\n",
    "from tensorflow.keras.preprocessing.sequence import pad_sequences\n",
    "from tensorflow.keras.applications.vgg16 import preprocess_input\n",
    "from tensorflow.keras.callbacks import (EarlyStopping, ModelCheckpoint, ReduceLROnPlateau, TensorBoard)\n",
    "import tensorflow as tf\n",
    "from tensorflow.keras.preprocessing.image import ImageDataGenerator\n",
    "from tensorflow.keras.layers import Input, Dense, Embedding, LSTM, Concatenate, Dropout, LayerNormalization, Bidirectional, Layer\n",
    "from tensorflow.keras.models import Model\n",
    "from tensorflow.keras.regularizers import l2\n",
    "from tensorflow.keras.optimizers import Adam\n",
    "from tensorflow.keras.applications import VGG16\n",
    "from tensorflow.keras.callbacks import EarlyStopping, ModelCheckpoint, ReduceLROnPlateau, LearningRateScheduler\n",
    "from tensorflow.keras.initializers import HeNormal\n",
    "from nltk.tokenize import word_tokenize\n",
    "from nltk.translate.bleu_score import corpus_bleu, SmoothingFunction\n",
    "from tqdm import tqdm\n",
    "from IPython.display import display, Markdown"
   ]
  },
  {
   "cell_type": "markdown",
   "metadata": {},
   "source": [
    "### Recursos NLTK"
   ]
  },
  {
   "cell_type": "code",
   "execution_count": 7,
   "metadata": {},
   "outputs": [
    {
     "name": "stdout",
     "output_type": "stream",
     "text": [
      "Configurando recursos NLTK...\n",
      "Recurso punkt ya está instalado\n",
      "Descargando recurso: wordnet...\n",
      "Recurso wordnet instalado correctamente\n",
      "Recurso averaged_perceptron_tagger ya está instalado\n",
      "Recurso stopwords ya está instalado\n"
     ]
    },
    {
     "name": "stderr",
     "output_type": "stream",
     "text": [
      "[nltk_data] Downloading package wordnet to\n",
      "[nltk_data]     C:\\Users\\Gerard/nltk_data...\n",
      "[nltk_data]   Package wordnet is already up-to-date!\n"
     ]
    }
   ],
   "source": [
    "# Configuración SSL para NLTK\n",
    "try:\n",
    "    _create_unverified_https_context = ssl._create_unverified_context\n",
    "except AttributeError:\n",
    "    pass\n",
    "else:\n",
    "    ssl._create_default_https_context = _create_unverified_https_context\n",
    "\n",
    "# Descargar recursos NLTK (versión mejorada)\n",
    "def setup_nltk():\n",
    "    required_resources = {\n",
    "        'punkt': ['tokenizers/punkt'],\n",
    "        'wordnet': ['corpora/wordnet'],\n",
    "        'averaged_perceptron_tagger': ['taggers/averaged_perceptron_tagger'],\n",
    "        'stopwords': ['corpora/stopwords']\n",
    "    }\n",
    "    \n",
    "    print(\"Configurando recursos NLTK...\")\n",
    "    \n",
    "    # Verificar si los datos están en la ubicación correcta\n",
    "    nltk_data_path = os.path.join(os.path.expanduser(\"~\"), \"nltk_data\")\n",
    "    if not os.path.exists(nltk_data_path):\n",
    "        os.makedirs(nltk_data_path)\n",
    "    for resource, subpaths in required_resources.items():\n",
    "        try:\n",
    "            # Verificar si ya está descargado\n",
    "            all_downloaded = True\n",
    "            for subpath in subpaths:\n",
    "                try:\n",
    "                    nltk.data.find(subpath)\n",
    "                except LookupError:\n",
    "                    all_downloaded = False\n",
    "                    break\n",
    "            \n",
    "            if not all_downloaded:\n",
    "                print(f\"Descargando recurso: {resource}...\")\n",
    "                nltk.download(resource, quiet=False)\n",
    "                print(f\"Recurso {resource} instalado correctamente\")\n",
    "            else:\n",
    "                print(f\"Recurso {resource} ya está instalado\")\n",
    "                \n",
    "        except Exception as e:\n",
    "            print(f\"\\n⚠️ Error al configurar {resource}: {str(e)}\")\n",
    "            print(\"Puedes intentar descargarlo manualmente con:\")\n",
    "            print(f\"import nltk; nltk.download('{resource}')\\n\")\n",
    "\n",
    "setup_nltk()"
   ]
  },
  {
   "cell_type": "markdown",
   "metadata": {},
   "source": [
    "### Configuracion de Directorios"
   ]
  },
  {
   "cell_type": "code",
   "execution_count": 8,
   "metadata": {},
   "outputs": [
    {
     "name": "stdout",
     "output_type": "stream",
     "text": [
      "✅ Directorio base encontrado: c:\\Users\\Gerard\\Desktop\\VISUAL_STUDIO\\Proyecto_Final_MIA\\Flickr8k\n",
      "✅ Directorio de imágenes encontrado: c:\\Users\\Gerard\\Desktop\\VISUAL_STUDIO\\Proyecto_Final_MIA\\Flickr8k\\Flicker8k_Dataset\n",
      "✅ Archivo de entrenamiento encontrado: c:\\Users\\Gerard\\Desktop\\VISUAL_STUDIO\\Proyecto_Final_MIA\\Flickr8k\\Flickr_8k.trainImages.txt\n",
      "✅ Archivo de prueba encontrado: c:\\Users\\Gerard\\Desktop\\VISUAL_STUDIO\\Proyecto_Final_MIA\\Flickr8k\\Flickr_8k.testImages.txt\n",
      "✅ Archivo de descripciones encontrado: c:\\Users\\Gerard\\Desktop\\VISUAL_STUDIO\\Proyecto_Final_MIA\\Flickr8k\\Flickr8k.token.txt\n"
     ]
    }
   ],
   "source": [
    "class Config:\n",
    "    def __init__(self):\n",
    "        # Ruta base en tu directorio personal\n",
    "        self.BASE_DIR = Path.cwd() / \"Flickr8k\"\n",
    "        self.IMAGE_DIR = self.BASE_DIR / \"Flicker8k_Dataset\"\n",
    "        self.TRAIN_FILE = self.BASE_DIR / \"Flickr_8k.trainImages.txt\"\n",
    "        self.TEST_FILE = self.BASE_DIR / \"Flickr_8k.testImages.txt\"\n",
    "        self.DESCRIPTIONS_FILE = self.BASE_DIR / \"Flickr8k.token.txt\"\n",
    "        \n",
    "        # Verificar existencia de directorios y archivos\n",
    "        self._verify_paths()\n",
    "\n",
    "    def _verify_paths(self):\n",
    "        \"\"\"Verifica que los paths existan\"\"\"\n",
    "        required_paths = {\n",
    "            \"Directorio base\": self.BASE_DIR,\n",
    "            \"Directorio de imágenes\": self.IMAGE_DIR,\n",
    "            \"Archivo de entrenamiento\": self.TRAIN_FILE,\n",
    "            \"Archivo de prueba\": self.TEST_FILE,\n",
    "            \"Archivo de descripciones\": self.DESCRIPTIONS_FILE\n",
    "        }\n",
    "        \n",
    "        missing = False\n",
    "        for name, path in required_paths.items():\n",
    "            if not path.exists():\n",
    "                print(f\"❌ {name} no encontrado en: {path}\")\n",
    "                missing = True\n",
    "            else:\n",
    "                print(f\"✅ {name} encontrado: {path}\")\n",
    "        \n",
    "        if missing:\n",
    "            raise FileNotFoundError(\"Faltan archivos/directorios requeridos. Verifica las rutas.\")\n",
    "\n",
    "config = Config()\n",
    "ACTUAL_DIR = Path.cwd()\n"
   ]
  },
  {
   "cell_type": "markdown",
   "metadata": {},
   "source": [
    " ## 3. PREPARAR DATOS"
   ]
  },
  {
   "cell_type": "markdown",
   "metadata": {},
   "source": [
    "### Cargar Datos en Variables"
   ]
  },
  {
   "cell_type": "code",
   "execution_count": 9,
   "metadata": {},
   "outputs": [
    {
     "name": "stdout",
     "output_type": "stream",
     "text": [
      "✔ Imágenes de entrenamiento: 6000\n",
      "✔ Imágenes de prueba: 1000\n",
      "✔ Descripciones de entrenamiento: 6000\n",
      "✔ Descripciones de prueba: 1000\n"
     ]
    }
   ],
   "source": [
    "def load_image_ids(file_path):\n",
    "    \"\"\"Carga IDs de imágenes desde archivo\"\"\"\n",
    "    if not file_path.exists():\n",
    "        raise FileNotFoundError(f\"Archivo no encontrado: {file_path}\")\n",
    "    \n",
    "    with open(file_path, 'r', encoding='utf-8') as f:\n",
    "        return [line.strip().split('.')[0] for line in f if line.strip()]\n",
    "\n",
    "def load_descriptions(file_path):\n",
    "    \"\"\"Carga y normaliza descripciones\"\"\"\n",
    "    descriptions = {}\n",
    "    with open(file_path, 'r', encoding='utf-8') as f:\n",
    "        for line in f:\n",
    "            line = line.strip()\n",
    "            if not line or '\\t' not in line:\n",
    "                continue\n",
    "                \n",
    "            img_id, desc = line.split('\\t')\n",
    "            img_id = img_id.split('.')[0]\n",
    "            desc = desc.lower().translate(str.maketrans('', '', string.punctuation))\n",
    "            \n",
    "            descriptions.setdefault(img_id, []).append(desc)\n",
    "    \n",
    "    return descriptions\n",
    "\n",
    "# Cargar datos\n",
    "train_ids = load_image_ids(config.TRAIN_FILE)\n",
    "test_ids = load_image_ids(config.TEST_FILE)\n",
    "all_descriptions = load_descriptions(config.DESCRIPTIONS_FILE)\n",
    "\n",
    "# Filtrar descripciones\n",
    "train_descriptions = {k: all_descriptions[k] for k in train_ids if k in all_descriptions}\n",
    "test_descriptions = {k: all_descriptions[k] for k in test_ids if k in all_descriptions}\n",
    "\n",
    "print(f\"✔ Imágenes de entrenamiento: {len(train_ids)}\")\n",
    "print(f\"✔ Imágenes de prueba: {len(test_ids)}\")\n",
    "print(f\"✔ Descripciones de entrenamiento: {len(train_descriptions)}\")\n",
    "print(f\"✔ Descripciones de prueba: {len(test_descriptions)}\")\n"
   ]
  },
  {
   "cell_type": "markdown",
   "metadata": {},
   "source": [
    " ## 4. VOCABULARIO"
   ]
  },
  {
   "cell_type": "markdown",
   "metadata": {},
   "source": [
    "### Crear Vocabulario"
   ]
  },
  {
   "cell_type": "code",
   "execution_count": 10,
   "metadata": {},
   "outputs": [
    {
     "name": "stderr",
     "output_type": "stream",
     "text": [
      "Procesando descripciones: 100%|██████████| 6000/6000 [00:01<00:00, 4091.82it/s]"
     ]
    },
    {
     "name": "stdout",
     "output_type": "stream",
     "text": [
      "\n",
      "Vocabulario creado: 3473 palabras\n",
      "20 palabras más frecuentes: [('in', 14085), ('the', 13509), ('on', 8006), ('is', 6907), ('and', 6672), ('dog', 6159), ('with', 5763), ('man', 5374), ('of', 4967), ('two', 4246), ('white', 2921), ('black', 2854), ('boy', 2634), ('are', 2619), ('woman', 2543), ('girl', 2414), ('to', 2303), ('wearing', 2271), ('at', 2101), ('people', 2093)]\n"
     ]
    },
    {
     "name": "stderr",
     "output_type": "stream",
     "text": [
      "\n"
     ]
    }
   ],
   "source": [
    "def build_vocabulary(descriptions, min_count=5):  # Cambiado de 3 a 5 para reducir vocabulario ruidoso\n",
    "    \"\"\"Construye vocabulario con filtrado mejorado\"\"\"\n",
    "    word_counts = Counter()\n",
    "    \n",
    "    for desc_list in tqdm(descriptions.values(), desc=\"Procesando descripciones\"):\n",
    "        for desc in desc_list:\n",
    "            # Mejor filtrado de tokens\n",
    "            tokens = word_tokenize(desc.lower())\n",
    "            tokens = [t for t in tokens if t.isalpha() and len(t) > 1]  # Excluir palabras de 1 letra\n",
    "            word_counts.update(tokens)\n",
    "    \n",
    "    # Vocabulario más robusto\n",
    "    vocab = ['<start>', '<end>', '<pad>', '<unk>'] + \\\n",
    "            [word for word, count in word_counts.items() if count >= min_count]\n",
    "    \n",
    "    print(f\"\\nVocabulario creado: {len(vocab)} palabras\")\n",
    "    print(\"20 palabras más frecuentes:\", word_counts.most_common(20))\n",
    "    \n",
    "    return vocab, {word: idx for idx, word in enumerate(vocab)}, \\\n",
    "        {idx: word for idx, word in enumerate(vocab)}\n",
    "\n",
    "vocabulary, word_to_idx, idx_to_word = build_vocabulary(train_descriptions, min_count=3)\n",
    "vocab_size = len(vocabulary)\n"
   ]
  },
  {
   "cell_type": "markdown",
   "metadata": {},
   "source": [
    " ## 5. PREPROCESAMIENTO"
   ]
  },
  {
   "cell_type": "markdown",
   "metadata": {},
   "source": [
    "### Encoder"
   ]
  },
  {
   "cell_type": "code",
   "execution_count": 11,
   "metadata": {},
   "outputs": [],
   "source": [
    "def create_encoder(trainable_layers=6):\n",
    "    base_model = tf.keras.applications.EfficientNetB3(\n",
    "        weights='imagenet',\n",
    "        include_top=False,\n",
    "        input_shape=(300, 300, 3),\n",
    "        pooling='avg'\n",
    "    )\n",
    "    \n",
    "    for layer in base_model.layers[:-trainable_layers]:\n",
    "        layer.trainable = False\n",
    "        \n",
    "    x = base_model.output\n",
    "    x = Dense(512, activation='swish', kernel_initializer='he_normal')(x)\n",
    "    x = LayerNormalization()(x)\n",
    "    x = Dropout(0.2)(x)\n",
    "    \n",
    "    return Model(inputs=base_model.input, outputs=x)\n"
   ]
  },
  {
   "cell_type": "code",
   "execution_count": 12,
   "metadata": {},
   "outputs": [
    {
     "name": "stdout",
     "output_type": "stream",
     "text": [
      "✔ Encoder creado con EfficientNetB3\n"
     ]
    }
   ],
   "source": [
    "encoder = create_encoder(trainable_layers=6)\n",
    "print(\"✔ Encoder creado con EfficientNetB3\")"
   ]
  },
  {
   "cell_type": "markdown",
   "metadata": {},
   "source": [
    "### Descripciones"
   ]
  },
  {
   "cell_type": "code",
   "execution_count": 13,
   "metadata": {},
   "outputs": [
    {
     "name": "stderr",
     "output_type": "stream",
     "text": [
      "Preprocesando descripciones:   0%|          | 0/6000 [00:00<?, ?it/s]"
     ]
    },
    {
     "name": "stderr",
     "output_type": "stream",
     "text": [
      "Preprocesando descripciones: 100%|██████████| 6000/6000 [00:01<00:00, 4091.61it/s]\n"
     ]
    },
    {
     "name": "stdout",
     "output_type": "stream",
     "text": [
      "\n",
      "Procesadas 6000 imágenes\n",
      "Longitud máxima de secuencia: 35\n"
     ]
    },
    {
     "name": "stderr",
     "output_type": "stream",
     "text": [
      "Preprocesando descripciones: 100%|██████████| 1000/1000 [00:00<00:00, 4169.16it/s]"
     ]
    },
    {
     "name": "stdout",
     "output_type": "stream",
     "text": [
      "\n",
      "Procesadas 1000 imágenes\n",
      "Longitud máxima de secuencia: 31\n",
      "\n",
      "Longitud máxima de secuencia: 35\n"
     ]
    },
    {
     "name": "stderr",
     "output_type": "stream",
     "text": [
      "\n"
     ]
    }
   ],
   "source": [
    "def preprocess_descriptions(descriptions, word_to_idx, max_length=None):\n",
    "    \"\"\"Convierte texto a secuencias de índices y calcula longitud máxima\"\"\"\n",
    "    \n",
    "    processed = {}\n",
    "    calculated_max_length = 0 if max_length is None else max_length\n",
    "    \n",
    "    # Pre-compilar regex para mejor performance\n",
    "    clean_pattern = re.compile(r'[^a-zA-Z\\s]')\n",
    "    \n",
    "    for img_id, desc_list in tqdm(descriptions.items(), desc=\"Preprocesando descripciones\"):\n",
    "        processed[img_id] = []\n",
    "        \n",
    "        for desc in desc_list:\n",
    "            # Limpieza más robusta del texto\n",
    "            desc = clean_pattern.sub('', desc.lower()).strip()\n",
    "            \n",
    "            # Tokenización con manejo de errores\n",
    "            try:\n",
    "                words = word_tokenize(desc)\n",
    "            except:\n",
    "                words = desc.split()  # Fallback básico\n",
    "            \n",
    "            # Convertir palabras a índices con manejo de OOV\n",
    "            seq = []\n",
    "            for word in words:\n",
    "                if word in word_to_idx:\n",
    "                    seq.append(word_to_idx[word])\n",
    "                else:\n",
    "                    # Manejo de palabras fuera de vocabulario\n",
    "                    if word.isalpha():  # Solo si es una palabra real\n",
    "                        seq.append(word_to_idx.get('<unk>', 0))\n",
    "            \n",
    "            # Actualizar máxima longitud si es necesario\n",
    "            if max_length is None and len(seq) > calculated_max_length:\n",
    "                calculated_max_length = len(seq)\n",
    "            \n",
    "            # Filtrar secuencias vacías\n",
    "            if len(seq) > 0:\n",
    "                processed[img_id].append(seq)\n",
    "    \n",
    "    # Asegurar que tenemos al menos 1 como longitud mínima\n",
    "    final_max_length = max(1, calculated_max_length)\n",
    "    \n",
    "    print(f\"\\nProcesadas {len(processed)} imágenes\")\n",
    "    print(f\"Longitud máxima de secuencia: {final_max_length}\")\n",
    "    \n",
    "    return processed, final_max_length\n",
    " \n",
    "# Preprocesar descripciones con versión corregida\n",
    "train_descriptions_processed, max_seq_length = preprocess_descriptions(train_descriptions, word_to_idx)\n",
    "test_descriptions_processed, _ = preprocess_descriptions(test_descriptions, word_to_idx)\n",
    "# Guardar test_descriptions_processed para uso posterior como pkl\n",
    "import pickle\n",
    "with open(ACTUAL_DIR / \"test_descriptions_processed.pkl\", 'wb') as f:\n",
    "    pickle.dump(test_descriptions_processed, f)\n",
    "print(f\"\\nLongitud máxima de secuencia: {max_seq_length}\")\n"
   ]
  },
  {
   "cell_type": "markdown",
   "metadata": {},
   "source": [
    "### Caracteristicas (con Aumento)"
   ]
  },
  {
   "cell_type": "code",
   "execution_count": null,
   "metadata": {},
   "outputs": [
    {
     "name": "stderr",
     "output_type": "stream",
     "text": [
      "Extrayendo características (con aumento):  67%|██████▋   | 4000/6000 [22:07<09:39,  3.45it/s]"
     ]
    }
   ],
   "source": [
    "# Configurar aumento de datos\n",
    "train_datagen = ImageDataGenerator(\n",
    "    rotation_range=25,  # Aumentado\n",
    "    width_shift_range=0.15,\n",
    "    height_shift_range=0.15,\n",
    "    brightness_range=[0.8, 1.2],  # Nuevo\n",
    "    zoom_range=0.2,\n",
    "    fill_mode='constant',  # Rellenar con negro\n",
    "    cval=0.0\n",
    ")\n",
    "\n",
    "def augmented_extract_features(image_ids, image_dir):\n",
    "    \"\"\"Extrae características con aumento de datos\"\"\"\n",
    "    features = {}\n",
    "    for img_id in tqdm(image_ids, desc=\"Extrayendo características (con aumento)\"):\n",
    "        img_path = image_dir / f\"{img_id}.jpg\"\n",
    "        img = Image.open(img_path).convert('RGB')\n",
    "        img = img.resize((300, 300))\n",
    "        \n",
    "        # Extraer características de la imagen original\n",
    "        img_array = np.expand_dims(np.array(img) / 255.0, axis=0)\n",
    "        img_array = preprocess_input(img_array)\n",
    "        features[img_id] = encoder.predict(img_array, verbose=0)[0]\n",
    "        \n",
    "        # Generar una versión aumentada\n",
    "        aug_img_array = train_datagen.random_transform(img_array[0])\n",
    "        aug_img_array = preprocess_input(np.expand_dims(aug_img_array, axis=0))\n",
    "        features[f\"{img_id}_aug\"] = encoder.predict(aug_img_array, verbose=0)[0]\n",
    "    \n",
    "    return features\n",
    "\n",
    "# Reemplazar la extracción original (opcional, comentar si es muy lento)\n",
    "train_features = augmented_extract_features(train_ids, config.IMAGE_DIR)\n",
    "test_features = augmented_extract_features(test_ids, config.IMAGE_DIR)"
   ]
  },
  {
   "cell_type": "markdown",
   "metadata": {},
   "source": [
    "### Cargar Caracteristicas"
   ]
  },
  {
   "cell_type": "code",
   "execution_count": 37,
   "metadata": {},
   "outputs": [],
   "source": [
    "# cargar características\n",
    "def load_features(filename):\n",
    "    with open(filename, 'rb') as f:\n",
    "        return np.load(f, allow_pickle=True).item()"
   ]
  },
  {
   "cell_type": "code",
   "execution_count": 38,
   "metadata": {},
   "outputs": [],
   "source": [
    "#train_features = load_features(ACTUAL_DIR / \"features\" / \"train_features.npy\")\n",
    "#test_features = load_features(ACTUAL_DIR / \"features\" / \"test_features.npy\")"
   ]
  },
  {
   "cell_type": "markdown",
   "metadata": {},
   "source": [
    "### Guardar Caracteristicas"
   ]
  },
  {
   "cell_type": "code",
   "execution_count": 39,
   "metadata": {},
   "outputs": [],
   "source": [
    "# guardar características\n",
    "def save_features(features, filename):\n",
    "    with open(filename, 'wb') as f:\n",
    "        np.save(f, features)"
   ]
  },
  {
   "cell_type": "code",
   "execution_count": 40,
   "metadata": {},
   "outputs": [],
   "source": [
    "save_features(train_features, ACTUAL_DIR / \"features\" / \"train_features_final.npy\")\n",
    "save_features(test_features, ACTUAL_DIR /\"features\" / \"test_features_final.npy\")"
   ]
  },
  {
   "cell_type": "markdown",
   "metadata": {},
   "source": [
    "### Preprocesar Descripciones"
   ]
  },
  {
   "cell_type": "code",
   "execution_count": 41,
   "metadata": {},
   "outputs": [],
   "source": [
    "def preprocess_descriptions(descriptions, word_to_idx, max_length=None):\n",
    "    \"\"\"Convierte texto a secuencias de índices y calcula longitud máxima\"\"\"\n",
    "    \n",
    "    processed = {}\n",
    "    calculated_max_length = 0 if max_length is None else max_length\n",
    "    \n",
    "    # Pre-compilar regex para mejor performance\n",
    "    clean_pattern = re.compile(r'[^a-zA-Z\\s]')\n",
    "    \n",
    "    for img_id, desc_list in tqdm(descriptions.items(), desc=\"Preprocesando descripciones\"):\n",
    "        processed[img_id] = []\n",
    "        \n",
    "        for desc in desc_list:\n",
    "            # Limpieza más robusta del texto\n",
    "            desc = clean_pattern.sub('', desc.lower()).strip()\n",
    "            \n",
    "            # Tokenización con manejo de errores\n",
    "            try:\n",
    "                words = word_tokenize(desc)\n",
    "            except:\n",
    "                words = desc.split()  # Fallback básico\n",
    "            \n",
    "            # Convertir palabras a índices con manejo de OOV\n",
    "            seq = []\n",
    "            for word in words:\n",
    "                if word in word_to_idx:\n",
    "                    seq.append(word_to_idx[word])\n",
    "                else:\n",
    "                    # Manejo de palabras fuera de vocabulario\n",
    "                    if word.isalpha():  # Solo si es una palabra real\n",
    "                        seq.append(word_to_idx.get('<unk>', 0))\n",
    "            \n",
    "            # Actualizar máxima longitud si es necesario\n",
    "            if max_length is None and len(seq) > calculated_max_length:\n",
    "                calculated_max_length = len(seq)\n",
    "            \n",
    "            # Filtrar secuencias vacías\n",
    "            if len(seq) > 0:\n",
    "                processed[img_id].append(seq)\n",
    "    \n",
    "    # Asegurar que tenemos al menos 1 como longitud mínima\n",
    "    final_max_length = max(1, calculated_max_length)\n",
    "    \n",
    "    print(f\"\\nProcesadas {len(processed)} imágenes\")\n",
    "    print(f\"Longitud máxima de secuencia: {final_max_length}\")\n",
    "    \n",
    "    return processed, final_max_length"
   ]
  },
  {
   "cell_type": "markdown",
   "metadata": {},
   "source": [
    " ## 8. CREAR TENSORFLOW DATASET"
   ]
  },
  {
   "cell_type": "code",
   "execution_count": 42,
   "metadata": {},
   "outputs": [],
   "source": [
    "def create_tf_dataset(descriptions, features, batch_size=64):\n",
    "    def gen():\n",
    "        for img_id, desc_list in descriptions.items():\n",
    "            feature = features[img_id]\n",
    "            for desc in desc_list:\n",
    "                # Secuencia completa de entrenamiento\n",
    "                caption_input = desc[:-1]  # Todo menos la última palabra\n",
    "                caption_target = desc[1:]  # Todo menos la primera palabra\n",
    "\n",
    "                # Devuelve las secuencias de entrada y objetivo\n",
    "                yield {\n",
    "                    'image_features': feature,\n",
    "                    'caption_input': pad_sequences([caption_input], maxlen=max_seq_length, padding='post')[0]\n",
    "                }, pad_sequences([caption_target], maxlen=max_seq_length, padding='post')[0]\n",
    "    \n",
    "    return tf.data.Dataset.from_generator(\n",
    "        gen,\n",
    "        output_signature=(\n",
    "            {\n",
    "                'image_features': tf.TensorSpec(shape=(512,), dtype=tf.float32),\n",
    "                'caption_input': tf.TensorSpec(shape=(max_seq_length,), dtype=tf.int32)\n",
    "            },\n",
    "            tf.TensorSpec(shape=(max_seq_length,), dtype=tf.int32)\n",
    "        )\n",
    "    ).shuffle(2000).batch(batch_size).prefetch(2).repeat()\n",
    "\n",
    "\n",
    "# Crear datasets con repeat=True\n",
    "train_dataset = create_tf_dataset(train_descriptions_processed,train_features)\n",
    "val_dataset = create_tf_dataset(test_descriptions_processed, test_features)"
   ]
  },
  {
   "cell_type": "code",
   "execution_count": null,
   "metadata": {},
   "outputs": [
    {
     "name": "stdout",
     "output_type": "stream",
     "text": [
      "Tamaño del vocabulario: 3473\n",
      "Las 20 palabras más frecuentes en el vocabulario:\n",
      "<unk>: 52216\n",
      "in: 14085\n",
      "the: 13509\n",
      "on: 8006\n",
      "is: 6907\n",
      "and: 6672\n",
      "dog: 6159\n",
      "with: 5763\n",
      "man: 5374\n",
      "of: 4967\n",
      "two: 4246\n",
      "white: 2921\n",
      "black: 2854\n",
      "boy: 2634\n",
      "are: 2619\n",
      "woman: 2543\n",
      "girl: 2414\n",
      "to: 2303\n",
      "wearing: 2271\n",
      "at: 2101\n",
      "Total de palabras fuera de vocabulario (OOV): 323518\n",
      "Longitud máxima de secuencias: 35\n",
      "Longitud mínima de secuencias: 2\n",
      "Promedio de longitud de secuencias: 10.783933333333334\n"
     ]
    },
    {
     "data": {
      "image/png": "[encoded data removed]",
      "text/plain": [
       "<Figure size 1000x600 with 1 Axes>"
      ]
     },
     "metadata": {},
     "output_type": "display_data"
    }
   ],
   "source": [
    "def vocab_diagnostics(vocab, train_descriptions_processed, word_to_idx, max_length):\n",
    "    \"\"\"\n",
    "    Diagnóstico sobre el vocabulario y las descripciones.\n",
    "    \"\"\"\n",
    "    # 1. Calcular la frecuencia de las palabras en las descripciones\n",
    "    all_words = [word for desc_list in train_descriptions_processed.values() for desc in desc_list for word in desc]\n",
    "    word_counts = Counter(all_words)  # Cuenta las ocurrencias de cada palabra\n",
    "\n",
    "    # 2. Verificar el tamaño del vocabulario\n",
    "    print(f\"Tamaño del vocabulario: {len(vocab)}\")\n",
    "    \n",
    "    idx_to_word = {idx: word for word, idx in word_to_idx.items()}\n",
    "\n",
    "    # Muestra las 20 palabras más frecuentes con sus respectivos índices\n",
    "    print(\"Las 20 palabras más frecuentes en el vocabulario:\")\n",
    "    for idx, count in word_counts.most_common(20):\n",
    "        word = idx_to_word.get(idx, \"<unk>\")\n",
    "        print(f\"{word}: {count}\")\n",
    "\n",
    "\n",
    "    # 4. Verificar el número de palabras fuera de vocabulario (<unk>)\n",
    "    oov_count = sum(1 for desc_list in train_descriptions_processed.values() for desc in desc_list\n",
    "                    for word in desc if word_to_idx.get(word, word_to_idx['<unk>']) == word_to_idx['<unk>'])\n",
    "    print(f\"Total de palabras fuera de vocabulario (OOV): {oov_count}\")\n",
    "\n",
    "    # 5. Verificar la longitud de las secuencias\n",
    "    seq_lengths = [len(seq) for desc_list in train_descriptions_processed.values() for seq in desc_list]\n",
    "    print(f\"Longitud máxima de secuencias: {max(seq_lengths)}\")\n",
    "    print(f\"Longitud mínima de secuencias: {min(seq_lengths)}\")\n",
    "    print(f\"Promedio de longitud de secuencias: {np.mean(seq_lengths)}\")\n",
    "    \n",
    "    # 6. Graficar la distribución de la longitud de las secuencias\n",
    "    plt.figure(figsize=(10, 6))\n",
    "    plt.hist(seq_lengths, bins=range(min(seq_lengths), max(seq_lengths) + 1, 1), alpha=0.75, color='blue')\n",
    "    plt.title(\"Distribución de la longitud de las secuencias de descripción\")\n",
    "    plt.xlabel(\"Longitud de secuencias\")\n",
    "    plt.ylabel(\"Frecuencia\")\n",
    "    plt.show()\n",
    "\n",
    "# Ejemplo de cómo llamar a la función (asegurándote de tener los datos preprocesados)\n",
    "vocab_diagnostics(vocabulary, train_descriptions_processed, word_to_idx, max_seq_length)\n",
    "\n"
   ]
  },
  {
   "cell_type": "markdown",
   "metadata": {},
   "source": [
    " ## 9. ENTRENAMIENTO"
   ]
  },
  {
   "cell_type": "markdown",
   "metadata": {},
   "source": [
    "### BahdanauAttention"
   ]
  },
  {
   "cell_type": "code",
   "execution_count": 44,
   "metadata": {},
   "outputs": [],
   "source": [
    "class BahdanauAttention(Layer):\n",
    "    def __init__(self, units, **kwargs):\n",
    "        super(BahdanauAttention, self).__init__(**kwargs)\n",
    "        self.W1 = Dense(units, kernel_initializer='he_normal')\n",
    "        self.W2 = Dense(units, kernel_initializer='he_normal')\n",
    "        self.V = Dense(1, kernel_initializer='he_normal')\n",
    "        self.units = units\n",
    "\n",
    "    def call(self, features, hidden):\n",
    "        hidden_with_time_axis = tf.expand_dims(hidden, 1)\n",
    "        score = self.V(tf.nn.tanh(\n",
    "            self.W1(features) + self.W2(hidden_with_time_axis)\n",
    "        ))\n",
    "        attention_weights = tf.nn.softmax(score, axis=1)\n",
    "        context_vector = attention_weights * features\n",
    "        context_vector = tf.reduce_sum(context_vector, axis=1)\n",
    "        return context_vector, attention_weights\n",
    "    "
   ]
  },
  {
   "cell_type": "markdown",
   "metadata": {},
   "source": [
    "### Decoder"
   ]
  },
  {
   "cell_type": "code",
   "execution_count": 45,
   "metadata": {},
   "outputs": [],
   "source": [
    "from keras.layers import Input, Embedding, LSTM, Dropout, Dense, Concatenate, RepeatVector, Reshape\n",
    "from keras.models import Model\n",
    "\n",
    "def create_decoder(vocab_size, max_length, embedding_dim=256, lstm_units=512, dropout_rate=0.5):\n",
    "    # 1. Entradas\n",
    "    caption_input = Input(shape=(max_length,), name='caption_input')  # Ajustado el nombre\n",
    "    image_features = Input(shape=(512,), name='image_features')\n",
    "    # 2. Embedding para el caption\n",
    "    caption_emb = Embedding(vocab_size, embedding_dim, mask_zero=True)(caption_input)\n",
    "\n",
    "    # 3. LSTM para procesar el caption embebido\n",
    "    lstm_out = LSTM(lstm_units, return_sequences=True)(caption_emb)\n",
    "    lstm_out = Dropout(dropout_rate)(lstm_out)\n",
    "\n",
    "    # 4. Contexto a partir de LSTM (simple atención simulada como promedio, puedes usar real atención)\n",
    "    context_vector = Dense(lstm_units, activation='tanh')(lstm_out[:, -1, :])  # Último timestep\n",
    "\n",
    "    # 5. Expandir contexto e imagen\n",
    "    context_exp = RepeatVector(max_length)(context_vector)  # (batch, max_length, lstm_units)\n",
    "    image_exp = RepeatVector(max_length)(image_features)    # (batch, max_length, embedding_dim)\n",
    "\n",
    "    # 6. Combinar contexto + imagen + LSTM output\n",
    "    merged = Concatenate()([context_exp, image_exp, lstm_out])  # (batch, max_length, lstm_units + embedding_dim + lstm_units)\n",
    "\n",
    "    # 7. Salida densa\n",
    "    x = Dense(512, activation='relu')(merged)\n",
    "    output = Dense(vocab_size, activation='softmax')(x)\n",
    "\n",
    "    model = Model(inputs=[caption_input, image_features], outputs=output)\n",
    "    return model\n"
   ]
  },
  {
   "cell_type": "code",
   "execution_count": 46,
   "metadata": {},
   "outputs": [
    {
     "name": "stdout",
     "output_type": "stream",
     "text": [
      "✅ Modelo creado correctamente\n"
     ]
    }
   ],
   "source": [
    "# 1. Definir parámetros\n",
    "vocab_size = len(vocabulary)\n",
    "max_seq_length = 35  # Ajustar según tu dataset\n",
    "\n",
    "# 2. Crear modelo\n",
    "decoder = create_decoder(vocab_size, max_seq_length)\n",
    "\n",
    "# 3. Compilar con configuración optimizada\n",
    "decoder.compile(\n",
    "    optimizer=tf.keras.optimizers.Adam(learning_rate=0.001, clipnorm=1.0),\n",
    "    loss='sparse_categorical_crossentropy',\n",
    "    metrics=['accuracy']\n",
    ")\n",
    "\n",
    "# 4. Verificar con un batch de prueba\n",
    "test_batch = next(iter(train_dataset.take(1)))\n",
    "try:\n",
    "    decoder(test_batch[0])\n",
    "    print(\"✅ Modelo creado correctamente\")\n",
    "except Exception as e:\n",
    "    print(f\"❌ Error: {str(e)}\")"
   ]
  },
  {
   "cell_type": "markdown",
   "metadata": {},
   "source": [
    "### LEARNING RATE"
   ]
  },
  {
   "cell_type": "code",
   "execution_count": 47,
   "metadata": {},
   "outputs": [],
   "source": [
    "def lr_schedule(epoch):\n",
    "    \"\"\"Planificación del learning rate corregida\"\"\"\n",
    "    warmup_epochs = 8\n",
    "    decay_epochs = 30\n",
    "    base_lr = 5e-4\n",
    "    min_lr = 1e-6\n",
    "    \n",
    "    if epoch < warmup_epochs:\n",
    "        lr = float(base_lr * (epoch + 1) / warmup_epochs)\n",
    "    elif epoch < decay_epochs:\n",
    "        progress = float(epoch - warmup_epochs) / (decay_epochs - warmup_epochs)\n",
    "        lr = float(base_lr * 0.5 * (1 + np.cos(np.pi * progress)))\n",
    "    else:\n",
    "        lr = float(min_lr)\n",
    "    \n",
    "    return lr"
   ]
  },
  {
   "cell_type": "markdown",
   "metadata": {},
   "source": [
    "### Optimizer / Loss Function"
   ]
  },
  {
   "cell_type": "code",
   "execution_count": 48,
   "metadata": {},
   "outputs": [],
   "source": [
    "from tensorflow.keras.optimizers import Adam\n",
    "\n",
    "# Crear un nuevo optimizador\n",
    "optimizer = Adam(\n",
    "    learning_rate=5e-4,\n",
    "    clipnorm=1.0\n",
    ")\n",
    "\n",
    "loss_fn = tf.keras.losses.SparseCategoricalCrossentropy(from_logits=False)\n"
   ]
  },
  {
   "cell_type": "markdown",
   "metadata": {},
   "source": [
    "### Callbacks"
   ]
  },
  {
   "cell_type": "code",
   "execution_count": 49,
   "metadata": {},
   "outputs": [],
   "source": [
    "callbacks = [\n",
    "    EarlyStopping(monitor='val_accuracy', patience=5, restore_best_weights=True),\n",
    "    #ModelCheckpoint('best_model_checkpoint.keras', monitor='val_accuracy', save_best_only=True),\n",
    "    ReduceLROnPlateau(monitor='val_loss', factor=0.5, patience=3, min_lr=1e-6),\n",
    "    LearningRateScheduler(lr_schedule),\n",
    "    TensorBoard(log_dir='./logs')\n",
    "]"
   ]
  },
  {
   "cell_type": "code",
   "execution_count": 50,
   "metadata": {},
   "outputs": [],
   "source": [
    "decoder = create_decoder(vocab_size, max_seq_length)\n",
    "decoder.compile(\n",
    "    optimizer=optimizer,\n",
    "    loss=loss_fn,\n",
    "    metrics=['accuracy']\n",
    ")\n"
   ]
  },
  {
   "cell_type": "markdown",
   "metadata": {},
   "source": [
    "### Hiperparametros"
   ]
  },
  {
   "cell_type": "code",
   "execution_count": 51,
   "metadata": {},
   "outputs": [
    {
     "name": "stdout",
     "output_type": "stream",
     "text": [
      "caption_input: (64, 35)\n",
      "image_features: (64, 512)\n",
      "targets: (64, 35)\n"
     ]
    },
    {
     "name": "stderr",
     "output_type": "stream",
     "text": [
      "2025-05-12 13:14:30.639417: I tensorflow/core/framework/local_rendezvous.cc:407] Local rendezvous is aborting with status: OUT_OF_RANGE: End of sequence\n"
     ]
    }
   ],
   "source": [
    "for batch in train_dataset.take(1):\n",
    "    (inputs, targets) = batch\n",
    "    print(\"caption_input:\", inputs[\"caption_input\"].shape)\n",
    "    print(\"image_features:\", inputs[\"image_features\"].shape)\n",
    "    print(\"targets:\", targets.shape)\n"
   ]
  },
  {
   "cell_type": "code",
   "execution_count": 52,
   "metadata": {},
   "outputs": [],
   "source": [
    "BATCH_SIZE = 64\n",
    "EPOCHS = 35\n",
    "train_steps = len(train_descriptions_processed) // BATCH_SIZE\n",
    "val_steps = len(test_descriptions_processed) // BATCH_SIZE\n"
   ]
  },
  {
   "cell_type": "markdown",
   "metadata": {},
   "source": [
    "### Entrenamientos"
   ]
  },
  {
   "cell_type": "code",
   "execution_count": null,
   "metadata": {},
   "outputs": [
    {
     "name": "stdout",
     "output_type": "stream",
     "text": [
      "WARNING:tensorflow:From /tmp/ipykernel_3822/3981878596.py:4: experimental_run_functions_eagerly (from tensorflow.python.eager.polymorphic_function.eager_function_run) is deprecated and will be removed in a future version.\n",
      "Instructions for updating:\n",
      "Use `tf.config.run_functions_eagerly` instead of the experimental version.\n"
     ]
    }
   ],
   "source": [
    "# Activar la ejecución eager si no está habilitada (he tenido problemas con esto, en teoria activando esto deberia ir bien)\n",
    "tf.config.experimental_run_functions_eagerly(True)\n"
   ]
  },
  {
   "cell_type": "code",
   "execution_count": 54,
   "metadata": {},
   "outputs": [
    {
     "name": "stdout",
     "output_type": "stream",
     "text": [
      "Starting main training...\n",
      "Epoch 1/35\n"
     ]
    },
    {
     "name": "stderr",
     "output_type": "stream",
     "text": [
      "2025-05-12 13:14:31.780596: W external/local_xla/xla/tsl/framework/cpu_allocator_impl.cc:83] Allocation of 455213056 exceeds 10% of free system memory.\n",
      "2025-05-12 13:14:31.931562: W external/local_xla/xla/tsl/framework/cpu_allocator_impl.cc:83] Allocation of 201326592 exceeds 10% of free system memory.\n"
     ]
    },
    {
     "name": "stdout",
     "output_type": "stream",
     "text": [
      "\u001b[1m 1/93\u001b[0m \u001b[37m━━━━━━━━━━━━━━━━━━━━\u001b[0m \u001b[1m2:47\u001b[0m 2s/step - accuracy: 8.9286e-04 - loss: 7.9060"
     ]
    },
    {
     "name": "stderr",
     "output_type": "stream",
     "text": [
      "2025-05-12 13:14:32.919858: W external/local_xla/xla/tsl/framework/cpu_allocator_impl.cc:83] Allocation of 455213056 exceeds 10% of free system memory.\n",
      "2025-05-12 13:14:33.062187: W external/local_xla/xla/tsl/framework/cpu_allocator_impl.cc:83] Allocation of 201326592 exceeds 10% of free system memory.\n"
     ]
    },
    {
     "name": "stdout",
     "output_type": "stream",
     "text": [
      "\u001b[1m 2/93\u001b[0m \u001b[37m━━━━━━━━━━━━━━━━━━━━\u001b[0m \u001b[1m1:28\u001b[0m 977ms/step - accuracy: 6.6964e-04 - loss: 7.8819"
     ]
    },
    {
     "name": "stderr",
     "output_type": "stream",
     "text": [
      "2025-05-12 13:14:33.856331: W external/local_xla/xla/tsl/framework/cpu_allocator_impl.cc:83] Allocation of 455213056 exceeds 10% of free system memory.\n"
     ]
    },
    {
     "name": "stdout",
     "output_type": "stream",
     "text": [
      "\u001b[1m93/93\u001b[0m \u001b[32m━━━━━━━━━━━━━━━━━━━━\u001b[0m\u001b[37m\u001b[0m \u001b[1m93s\u001b[0m 992ms/step - accuracy: 0.5755 - loss: 5.6223 - val_accuracy: 0.7173 - val_loss: 2.1808 - learning_rate: 6.2500e-05\n",
      "Epoch 2/35\n",
      "\u001b[1m93/93\u001b[0m \u001b[32m━━━━━━━━━━━━━━━━━━━━\u001b[0m\u001b[37m\u001b[0m \u001b[1m90s\u001b[0m 971ms/step - accuracy: 0.7237 - loss: 2.1027 - val_accuracy: 0.7350 - val_loss: 1.8109 - learning_rate: 1.2500e-04\n",
      "Epoch 3/35\n",
      "\u001b[1m93/93\u001b[0m \u001b[32m━━━━━━━━━━━━━━━━━━━━\u001b[0m\u001b[37m\u001b[0m \u001b[1m91s\u001b[0m 978ms/step - accuracy: 0.7401 - loss: 1.7623 - val_accuracy: 0.7421 - val_loss: 1.7005 - learning_rate: 1.8750e-04\n",
      "Epoch 4/35\n",
      "\u001b[1m93/93\u001b[0m \u001b[32m━━━━━━━━━━━━━━━━━━━━\u001b[0m\u001b[37m\u001b[0m \u001b[1m91s\u001b[0m 978ms/step - accuracy: 0.7419 - loss: 1.7103 - val_accuracy: 0.7464 - val_loss: 1.6767 - learning_rate: 2.5000e-04\n",
      "Epoch 5/35\n",
      "\u001b[1m93/93\u001b[0m \u001b[32m━━━━━━━━━━━━━━━━━━━━\u001b[0m\u001b[37m\u001b[0m \u001b[1m90s\u001b[0m 970ms/step - accuracy: 0.7471 - loss: 1.6685 - val_accuracy: 0.7440 - val_loss: 1.6560 - learning_rate: 3.1250e-04\n",
      "Epoch 6/35\n",
      "\u001b[1m93/93\u001b[0m \u001b[32m━━━━━━━━━━━━━━━━━━━━\u001b[0m\u001b[37m\u001b[0m \u001b[1m91s\u001b[0m 979ms/step - accuracy: 0.7462 - loss: 1.6655 - val_accuracy: 0.7525 - val_loss: 1.6111 - learning_rate: 3.7500e-04\n",
      "Epoch 7/35\n",
      "\u001b[1m93/93\u001b[0m \u001b[32m━━━━━━━━━━━━━━━━━━━━\u001b[0m\u001b[37m\u001b[0m \u001b[1m91s\u001b[0m 978ms/step - accuracy: 0.7537 - loss: 1.6065 - val_accuracy: 0.7617 - val_loss: 1.5429 - learning_rate: 4.3750e-04\n",
      "Epoch 8/35\n",
      "\u001b[1m93/93\u001b[0m \u001b[32m━━━━━━━━━━━━━━━━━━━━\u001b[0m\u001b[37m\u001b[0m \u001b[1m142s\u001b[0m 2s/step - accuracy: 0.7646 - loss: 1.5197 - val_accuracy: 0.7640 - val_loss: 1.4857 - learning_rate: 5.0000e-04\n",
      "Epoch 9/35\n",
      "\u001b[1m93/93\u001b[0m \u001b[32m━━━━━━━━━━━━━━━━━━━━\u001b[0m\u001b[37m\u001b[0m \u001b[1m90s\u001b[0m 969ms/step - accuracy: 0.7684 - loss: 1.4684 - val_accuracy: 0.7780 - val_loss: 1.3842 - learning_rate: 5.0000e-04\n",
      "Epoch 10/35\n",
      "\u001b[1m93/93\u001b[0m \u001b[32m━━━━━━━━━━━━━━━━━━━━\u001b[0m\u001b[37m\u001b[0m \u001b[1m90s\u001b[0m 966ms/step - accuracy: 0.7787 - loss: 1.3832 - val_accuracy: 0.7774 - val_loss: 1.3567 - learning_rate: 4.9746e-04\n",
      "Epoch 11/35\n",
      "\u001b[1m93/93\u001b[0m \u001b[32m━━━━━━━━━━━━━━━━━━━━\u001b[0m\u001b[37m\u001b[0m \u001b[1m91s\u001b[0m 974ms/step - accuracy: 0.7836 - loss: 1.3338 - val_accuracy: 0.7835 - val_loss: 1.3098 - learning_rate: 4.8987e-04\n",
      "Epoch 12/35\n",
      "\u001b[1m93/93\u001b[0m \u001b[32m━━━━━━━━━━━━━━━━━━━━\u001b[0m\u001b[37m\u001b[0m \u001b[1m91s\u001b[0m 977ms/step - accuracy: 0.7893 - loss: 1.2716 - val_accuracy: 0.7911 - val_loss: 1.2462 - learning_rate: 4.7741e-04\n",
      "Epoch 13/35\n",
      "\u001b[1m93/93\u001b[0m \u001b[32m━━━━━━━━━━━━━━━━━━━━\u001b[0m\u001b[37m\u001b[0m \u001b[1m90s\u001b[0m 970ms/step - accuracy: 0.7932 - loss: 1.2337 - val_accuracy: 0.8009 - val_loss: 1.1994 - learning_rate: 4.6031e-04\n",
      "Epoch 14/35\n",
      "\u001b[1m93/93\u001b[0m \u001b[32m━━━━━━━━━━━━━━━━━━━━\u001b[0m\u001b[37m\u001b[0m \u001b[1m90s\u001b[0m 972ms/step - accuracy: 0.7995 - loss: 1.1986 - val_accuracy: 0.8039 - val_loss: 1.1749 - learning_rate: 4.3894e-04\n",
      "Epoch 15/35\n",
      "\u001b[1m93/93\u001b[0m \u001b[32m━━━━━━━━━━━━━━━━━━━━\u001b[0m\u001b[37m\u001b[0m \u001b[1m90s\u001b[0m 967ms/step - accuracy: 0.8084 - loss: 1.1407 - val_accuracy: 0.8115 - val_loss: 1.1287 - learning_rate: 4.1372e-04\n",
      "Epoch 16/35\n",
      "\u001b[1m93/93\u001b[0m \u001b[32m━━━━━━━━━━━━━━━━━━━━\u001b[0m\u001b[37m\u001b[0m \u001b[1m91s\u001b[0m 976ms/step - accuracy: 0.8110 - loss: 1.1181 - val_accuracy: 0.8148 - val_loss: 1.1026 - learning_rate: 3.8516e-04\n",
      "Epoch 17/35\n",
      "\u001b[1m93/93\u001b[0m \u001b[32m━━━━━━━━━━━━━━━━━━━━\u001b[0m\u001b[37m\u001b[0m \u001b[1m90s\u001b[0m 970ms/step - accuracy: 0.8144 - loss: 1.0746 - val_accuracy: 0.8200 - val_loss: 1.0654 - learning_rate: 3.5385e-04\n",
      "Epoch 18/35\n",
      "\u001b[1m93/93\u001b[0m \u001b[32m━━━━━━━━━━━━━━━━━━━━\u001b[0m\u001b[37m\u001b[0m \u001b[1m90s\u001b[0m 971ms/step - accuracy: 0.8115 - loss: 1.0826 - val_accuracy: 0.8201 - val_loss: 1.0576 - learning_rate: 3.2043e-04\n",
      "Epoch 19/35\n",
      "\u001b[1m93/93\u001b[0m \u001b[32m━━━━━━━━━━━━━━━━━━━━\u001b[0m\u001b[37m\u001b[0m \u001b[1m90s\u001b[0m 972ms/step - accuracy: 0.8190 - loss: 1.0359 - val_accuracy: 0.8238 - val_loss: 1.0497 - learning_rate: 2.8558e-04\n",
      "Epoch 20/35\n",
      "\u001b[1m93/93\u001b[0m \u001b[32m━━━━━━━━━━━━━━━━━━━━\u001b[0m\u001b[37m\u001b[0m \u001b[1m90s\u001b[0m 971ms/step - accuracy: 0.8245 - loss: 1.0064 - val_accuracy: 0.8288 - val_loss: 1.0094 - learning_rate: 2.5000e-04\n",
      "Epoch 21/35\n",
      "\u001b[1m93/93\u001b[0m \u001b[32m━━━━━━━━━━━━━━━━━━━━\u001b[0m\u001b[37m\u001b[0m \u001b[1m91s\u001b[0m 974ms/step - accuracy: 0.8239 - loss: 0.9967 - val_accuracy: 0.8291 - val_loss: 1.0022 - learning_rate: 2.1442e-04\n",
      "Epoch 22/35\n",
      "\u001b[1m93/93\u001b[0m \u001b[32m━━━━━━━━━━━━━━━━━━━━\u001b[0m\u001b[37m\u001b[0m \u001b[1m90s\u001b[0m 970ms/step - accuracy: 0.8299 - loss: 0.9594 - val_accuracy: 0.8335 - val_loss: 0.9865 - learning_rate: 1.7957e-04\n",
      "Epoch 23/35\n",
      "\u001b[1m93/93\u001b[0m \u001b[32m━━━━━━━━━━━━━━━━━━━━\u001b[0m\u001b[37m\u001b[0m \u001b[1m90s\u001b[0m 971ms/step - accuracy: 0.8269 - loss: 0.9645 - val_accuracy: 0.8303 - val_loss: 0.9986 - learning_rate: 1.4615e-04\n",
      "Epoch 24/35\n",
      "\u001b[1m93/93\u001b[0m \u001b[32m━━━━━━━━━━━━━━━━━━━━\u001b[0m\u001b[37m\u001b[0m \u001b[1m90s\u001b[0m 971ms/step - accuracy: 0.8321 - loss: 0.9392 - val_accuracy: 0.8330 - val_loss: 0.9792 - learning_rate: 1.1484e-04\n",
      "Epoch 25/35\n",
      "\u001b[1m93/93\u001b[0m \u001b[32m━━━━━━━━━━━━━━━━━━━━\u001b[0m\u001b[37m\u001b[0m \u001b[1m90s\u001b[0m 971ms/step - accuracy: 0.8311 - loss: 0.9380 - val_accuracy: 0.8364 - val_loss: 0.9614 - learning_rate: 8.6285e-05\n",
      "Epoch 26/35\n",
      "\u001b[1m93/93\u001b[0m \u001b[32m━━━━━━━━━━━━━━━━━━━━\u001b[0m\u001b[37m\u001b[0m \u001b[1m90s\u001b[0m 970ms/step - accuracy: 0.8330 - loss: 0.9282 - val_accuracy: 0.8376 - val_loss: 0.9539 - learning_rate: 6.1063e-05\n",
      "Epoch 27/35\n",
      "\u001b[1m93/93\u001b[0m \u001b[32m━━━━━━━━━━━━━━━━━━━━\u001b[0m\u001b[37m\u001b[0m \u001b[1m90s\u001b[0m 973ms/step - accuracy: 0.8363 - loss: 0.9013 - val_accuracy: 0.8386 - val_loss: 0.9480 - learning_rate: 3.9687e-05\n",
      "Epoch 28/35\n",
      "\u001b[1m93/93\u001b[0m \u001b[32m━━━━━━━━━━━━━━━━━━━━\u001b[0m\u001b[37m\u001b[0m \u001b[1m90s\u001b[0m 971ms/step - accuracy: 0.8350 - loss: 0.9116 - val_accuracy: 0.8407 - val_loss: 0.9412 - learning_rate: 2.2592e-05\n",
      "Epoch 29/35\n",
      "\u001b[1m93/93\u001b[0m \u001b[32m━━━━━━━━━━━━━━━━━━━━\u001b[0m\u001b[37m\u001b[0m \u001b[1m90s\u001b[0m 973ms/step - accuracy: 0.8352 - loss: 0.9147 - val_accuracy: 0.8372 - val_loss: 0.9584 - learning_rate: 1.0127e-05\n",
      "Epoch 30/35\n",
      "\u001b[1m93/93\u001b[0m \u001b[32m━━━━━━━━━━━━━━━━━━━━\u001b[0m\u001b[37m\u001b[0m \u001b[1m91s\u001b[0m 976ms/step - accuracy: 0.8366 - loss: 0.9088 - val_accuracy: 0.8356 - val_loss: 0.9709 - learning_rate: 2.5446e-06\n",
      "Epoch 31/35\n",
      "\u001b[1m93/93\u001b[0m \u001b[32m━━━━━━━━━━━━━━━━━━━━\u001b[0m\u001b[37m\u001b[0m \u001b[1m90s\u001b[0m 972ms/step - accuracy: 0.8352 - loss: 0.9101 - val_accuracy: 0.8393 - val_loss: 0.9487 - learning_rate: 1.0000e-06\n",
      "Epoch 32/35\n",
      "\u001b[1m93/93\u001b[0m \u001b[32m━━━━━━━━━━━━━━━━━━━━\u001b[0m\u001b[37m\u001b[0m \u001b[1m90s\u001b[0m 971ms/step - accuracy: 0.8367 - loss: 0.8959 - val_accuracy: 0.8382 - val_loss: 0.9539 - learning_rate: 1.0000e-06\n",
      "Epoch 33/35\n",
      "\u001b[1m93/93\u001b[0m \u001b[32m━━━━━━━━━━━━━━━━━━━━\u001b[0m\u001b[37m\u001b[0m \u001b[1m90s\u001b[0m 969ms/step - accuracy: 0.8343 - loss: 0.9041 - val_accuracy: 0.8388 - val_loss: 0.9525 - learning_rate: 1.0000e-06\n",
      "\n",
      "Starting fine-tuning...\n",
      "Epoch 36/37\n",
      "\u001b[1m93/93\u001b[0m \u001b[32m━━━━━━━━━━━━━━━━━━━━\u001b[0m\u001b[37m\u001b[0m \u001b[1m92s\u001b[0m 979ms/step - accuracy: 0.8341 - loss: 0.9157 - val_accuracy: 0.8376 - val_loss: 0.9515 - learning_rate: 1.0000e-06\n",
      "Epoch 37/37\n",
      "\u001b[1m93/93\u001b[0m \u001b[32m━━━━━━━━━━━━━━━━━━━━\u001b[0m\u001b[37m\u001b[0m \u001b[1m89s\u001b[0m 953ms/step - accuracy: 0.8348 - loss: 0.9011 - val_accuracy: 0.8381 - val_loss: 0.9526 - learning_rate: 1.0000e-06\n"
     ]
    }
   ],
   "source": [
    "# Main training\n",
    "print(\"Starting main training...\")\n",
    "history = decoder.fit(\n",
    "    train_dataset,\n",
    "    steps_per_epoch=train_steps,\n",
    "    validation_data=val_dataset,\n",
    "    validation_steps=val_steps,\n",
    "    epochs=EPOCHS,\n",
    "    callbacks=callbacks,\n",
    "    verbose=1\n",
    ")\n",
    "\n",
    "# Fine-tuning phase\n",
    "print(\"\\nStarting fine-tuning...\")\n",
    "for layer in encoder.layers[-4:]:\n",
    "    layer.trainable = True\n",
    "\n",
    "decoder.compile(\n",
    "    optimizer=Adam(learning_rate=1e-5),\n",
    "    loss=loss_fn,\n",
    "    metrics=['accuracy']\n",
    ")\n",
    "\n",
    "history_finetune = decoder.fit(\n",
    "    train_dataset,\n",
    "    steps_per_epoch=train_steps,\n",
    "    validation_data=val_dataset,\n",
    "    validation_steps=val_steps,\n",
    "    initial_epoch=EPOCHS,\n",
    "    epochs=EPOCHS + 2,\n",
    "    callbacks=callbacks,\n",
    "    verbose=1\n",
    ")"
   ]
  },
  {
   "cell_type": "markdown",
   "metadata": {},
   "source": [
    " ## 10. Gráfico del entrenamiento"
   ]
  },
  {
   "cell_type": "code",
   "execution_count": null,
   "metadata": {},
   "outputs": [
    {
     "data": {
      "image/png": "[encoded data removed]",
      "text/plain": [
       "<Figure size 1200x500 with 2 Axes>"
      ]
     },
     "metadata": {},
     "output_type": "display_data"
    },
    {
     "data": {
      "text/plain": [
       "<Figure size 640x480 with 0 Axes>"
      ]
     },
     "metadata": {},
     "output_type": "display_data"
    }
   ],
   "source": [
    "plt.figure(figsize=(12, 5))\n",
    "\n",
    "# Gráfico de Accuracy\n",
    "plt.subplot(1, 2, 1)\n",
    "plt.plot(history.history['accuracy'], label='Train')\n",
    "plt.plot(history.history['val_accuracy'], label='Validation')\n",
    "plt.title('Accuracy por Época')\n",
    "plt.ylabel('Accuracy')\n",
    "plt.xlabel('Época')\n",
    "plt.legend()\n",
    "\n",
    "# Gráfico de Loss\n",
    "plt.subplot(1, 2, 2)\n",
    "plt.plot(history.history['loss'], label='Train')\n",
    "plt.plot(history.history['val_loss'], label='Validation')\n",
    "plt.title('Loss por Época')\n",
    "plt.ylabel('Loss')\n",
    "plt.xlabel('Época')\n",
    "plt.legend()\n",
    "\n",
    "plt.tight_layout()\n",
    "plt.show()\n",
    "# Guardar el grafico\n",
    "plt.savefig(ACTUAL_DIR / \"graphs\" / \"training_history.png\")"
   ]
  },
  {
   "cell_type": "markdown",
   "metadata": {},
   "source": [
    "## 11. Guardar Modelo"
   ]
  },
  {
   "cell_type": "code",
   "execution_count": null,
   "metadata": {},
   "outputs": [
    {
     "ename": "NameError",
     "evalue": "name 'ACTUAL_DIR' is not defined",
     "output_type": "error",
     "traceback": [
      "\u001b[31m---------------------------------------------------------------------------\u001b[39m",
      "\u001b[31mNameError\u001b[39m                                 Traceback (most recent call last)",
      "\u001b[36mCell\u001b[39m\u001b[36m \u001b[39m\u001b[32mIn[2]\u001b[39m\u001b[32m, line 4\u001b[39m\n\u001b[32m      2\u001b[39m date = datetime.datetime.now().strftime(\u001b[33m\"\u001b[39m\u001b[38;5;132;01m%d\u001b[39;00m\u001b[33m_\u001b[39m\u001b[33m%\u001b[39m\u001b[33mm\u001b[39m\u001b[33m\"\u001b[39m)\n\u001b[32m      3\u001b[39m \u001b[38;5;66;03m# Guardar el modelo\u001b[39;00m\n\u001b[32m----> \u001b[39m\u001b[32m4\u001b[39m \u001b[38;5;28;01mif\u001b[39;00m \u001b[38;5;129;01mnot\u001b[39;00m (\u001b[43mACTUAL_DIR\u001b[49m / \u001b[33m'\u001b[39m\u001b[33mmodels\u001b[39m\u001b[33m'\u001b[39m).exists():\n\u001b[32m      5\u001b[39m     (ACTUAL_DIR / \u001b[33m'\u001b[39m\u001b[33mmodels\u001b[39m\u001b[33m'\u001b[39m).mkdir(parents=\u001b[38;5;28;01mTrue\u001b[39;00m, exist_ok=\u001b[38;5;28;01mTrue\u001b[39;00m)\n\u001b[32m      6\u001b[39m decoder.save(ACTUAL_DIR /\u001b[33m'\u001b[39m\u001b[33mmodels\u001b[39m\u001b[33m'\u001b[39m/ \u001b[33mf\u001b[39m\u001b[33m'\u001b[39m\u001b[33mmodel_final_\u001b[39m\u001b[38;5;132;01m{\u001b[39;00mdate\u001b[38;5;132;01m}\u001b[39;00m\u001b[33m.keras\u001b[39m\u001b[33m'\u001b[39m)\n",
      "\u001b[31mNameError\u001b[39m: name 'ACTUAL_DIR' is not defined"
     ]
    }
   ],
   "source": [
    "date = datetime.datetime.now().strftime(\"%d_%m\")\n",
    "# Guardar el modelo\n",
    "if not (ACTUAL_DIR / 'models').exists():\n",
    "    (ACTUAL_DIR / 'models').mkdir(parents=True, exist_ok=True)\n",
    "decoder.save(ACTUAL_DIR /'models'/ f'model_final_{date}.keras')\n",
    "print(f\"Modelo guardado en: {ACTUAL_DIR /'models'/ f'model_final_{date}.keras'}\")\n",
    "\n",
    "\n",
    "# Guardar vocabulario, índices y longitud máxima de secuencia\n",
    "vocab_data = {\n",
    "    'vocabulary': vocabulary,\n",
    "    'word_to_idx': word_to_idx,\n",
    "    'idx_to_word': idx_to_word,\n",
    "    'max_seq_length': max_seq_length\n",
    "}\n",
    "\n",
    "VOCAB_PATH = ACTUAL_DIR /\"vocab\"/ \"vocab_final.pkl\"\n",
    "with open(VOCAB_PATH, \"wb\") as f:\n",
    "    pickle.dump(vocab_data, f)\n",
    "\n",
    "print(f\"✔ Vocabulario guardado en: {VOCAB_PATH}\")\n"
   ]
  }
 ],
 "metadata": {
  "kernelspec": {
   "display_name": "Python 3",
   "language": "python",
   "name": "python3"
  },
  "language_info": {
   "codemirror_mode": {
    "name": "ipython",
    "version": 3
   },
   "file_extension": ".py",
   "mimetype": "text/x-python",
   "name": "python",
   "nbconvert_exporter": "python",
   "pygments_lexer": "ipython3",
   "version": "3.11.9"
  }
 },
 "nbformat": 4,
 "nbformat_minor": 2
}
